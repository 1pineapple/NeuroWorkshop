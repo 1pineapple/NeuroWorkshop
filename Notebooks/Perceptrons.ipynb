{
 "cells": [
  {
   "cell_type": "markdown",
   "metadata": {
    "collapsed": true,
    "nbpresent": {
     "id": "352de1bc-4497-45d5-ab3b-d820cae4c621"
    },
    "slideshow": {
     "slide_type": "slide"
    }
   },
   "source": [
    "# Введение в нейронные сети\n",
    "\n",
    "## Эпизод 1: Персептрон\n",
    "\n",
    "Дмитрий Сошников\n",
    "\n",
    "технологический евангелист, Microsoft\n",
    "\n",
    "dmitryso@microsoft.com"
   ]
  },
  {
   "cell_type": "markdown",
   "metadata": {
    "nbpresent": {
     "id": "06f2eb77-16d7-45bc-af16-416466981339"
    },
    "slideshow": {
     "slide_type": "skip"
    }
   },
   "source": [
    "Данная презентация представляет собой введение в нейронные сети. Идея однодневного мастер-класса основана на Neural Network Workshop в Microsoft Research Cambridge. Материал и фрагменты кода частично взяты из презентаций [Katja Hoffmann](https://www.microsoft.com/en-us/research/people/kahofman/), [Matthew Johnson](https://www.microsoft.com/en-us/research/people/matjoh/) и [Ryoto Tomioka](https://www.microsoft.com/en-us/research/people/ryoto/) из Microsoft Research Cambridge. [NeuroWorkshop](http://github.com/shwars/NeuroWorkshop) подготовлен [Дмитрием Сошниковым](http://blog.soshnikov.com), Microsoft Russia."
   ]
  },
  {
   "cell_type": "markdown",
   "metadata": {
    "nbpresent": {
     "id": "b8c69ea0-86c3-406c-a19d-3f463cbc9604"
    },
    "slideshow": {
     "slide_type": "slide"
    }
   },
   "source": [
    "## Два взгляда на нейронные сети\n",
    "\n",
    " * Восходящий подход к искусственному интеллекту\n",
    " * Способ усложнения и комбинирования базовых алгоритмов машинного обучения\n",
    "     - обучение с учителем (*supervised learning*)\n",
    "     - обучение без учителя (*unsupervised learning*)"
   ]
  },
  {
   "cell_type": "markdown",
   "metadata": {
    "collapsed": true,
    "nbpresent": {
     "id": "c7b224dd-d9e0-4ffc-886a-e183d26758b9"
    },
    "slideshow": {
     "slide_type": "slide"
    }
   },
   "source": [
    "## Обучение с учителем\n",
    "\n",
    "**Дано:**\n",
    "  * Обучающая выборка $\\mathbf{X} \\in \\mathbb{R}^{n \\times k}$\n",
    "    * $n$ - размер выборки\n",
    "    * $x_i$ представлено вектором свойств размерности $k$\n",
    "  * Известные значения целевой функции $\\mathbf{Y}$ ($y_i$ соответствует вектору свойств $x_i$)\n",
    "    * $\\mathbf{Y} \\in \\mathbb{R}^{n \\times 1}$ (задачи регрессии)\n",
    "    * $\\mathbf{Y} \\in C^{n \\times 1}$, где $y_i \\in C$ (задачи классификации на $|C|$ классов)\n"
   ]
  },
  {
   "cell_type": "markdown",
   "metadata": {
    "nbpresent": {
     "id": "3955d5d7-e56f-40f8-a78d-944e1ed080f8"
    },
    "slideshow": {
     "slide_type": "slide"
    }
   },
   "source": [
    "## Задача\n",
    "\n",
    "**Дано:**\n",
    "  * Обучающая выборка $\\mathbf{X} \\in \\mathbb{R}^{n \\times k}$\n",
    "  * Входные значение целевой функции $\\mathbf{Y}$\n",
    "\n",
    "**Необходимо построить:**\n",
    "  * Функцию $f : \\mathbf{X} \\rightarrow \\mathbf{Y}$ который _точно предсказывает_ значение целевой функции на новом наборе входных данных $\\mathbf{X}_{new}$\n"
   ]
  },
  {
   "cell_type": "code",
   "execution_count": 1,
   "metadata": {
    "collapsed": true,
    "nbpresent": {
     "id": "60027d60-10b8-491b-b0b1-8a7a91df7011"
    },
    "slideshow": {
     "slide_type": "skip"
    }
   },
   "outputs": [],
   "source": [
    "%matplotlib inline\n",
    "import pylab\n",
    "from matplotlib import gridspec\n",
    "from sklearn.datasets import make_classification\n",
    "import numpy as np\n",
    "from ipywidgets import interact, interactive, fixed\n",
    "import ipywidgets as widgets\n",
    "\n",
    "\n",
    "# pick the seed for reproducability - change it to explore the effects of random variations\n",
    "np.random.seed(1)\n",
    "import random"
   ]
  },
  {
   "cell_type": "markdown",
   "metadata": {
    "nbpresent": {
     "id": "f4fae957-6c2f-4988-818b-f515012419c0"
    },
    "slideshow": {
     "slide_type": "slide"
    }
   },
   "source": [
    "## Пример\n",
    "Рассмотрим пример двухмерной задачи классификации на 2 класса. Примером такой задачи может быть классификация опухоли на 2 типа - доброкачественная и злокачественная, в зависимости от её размера и возраста."
   ]
  },
  {
   "cell_type": "code",
   "execution_count": 3,
   "metadata": {
    "collapsed": false,
    "nbpresent": {
     "id": "383a2b79-3fc5-4a6f-9cc0-b57f10130f9d"
    },
    "slideshow": {
     "slide_type": "slide"
    }
   },
   "outputs": [
    {
     "name": "stdout",
     "output_type": "stream",
     "text": [
      "Features:\n",
      " [[-1.74418378 -1.39520371]\n",
      " [ 2.59217834 -0.08124504]\n",
      " [ 0.92180622  0.91789985]\n",
      " [-0.84370178 -0.18738253]]\n",
      "Labels:\n",
      " [-1 -1  1 -1]\n"
     ]
    }
   ],
   "source": [
    "n = 50\n",
    "X, Y = make_classification(n_samples = n, n_features=2,\n",
    "                           n_redundant=0, n_informative=2, flip_y=0)\n",
    "Y = Y*2-1\n",
    "X = X.astype(np.float32)\n",
    "Y = Y.astype(np.int32)\n",
    "\n",
    "# Разбиваем на обучающую и тестовые выборки\n",
    "# В реальной жизни обучающая - 80% данных\n",
    "train_x, test_x = np.split(X, [ n*8//10])\n",
    "train_labels, test_labels = np.split(Y, [n*8//10])\n",
    "print(\"Features:\\n\",train_x[0:4])\n",
    "print(\"Labels:\\n\",train_labels[0:4])"
   ]
  },
  {
   "cell_type": "code",
   "execution_count": 4,
   "metadata": {
    "collapsed": true,
    "nbpresent": {
     "id": "98c5f7e2-ec22-4067-80c3-8b0205effa1c"
    },
    "slideshow": {
     "slide_type": "skip"
    }
   },
   "outputs": [],
   "source": [
    "def plot_dataset(suptitle, features, labels):\n",
    "    # prepare the plot\n",
    "    fig, ax = pylab.subplots(1, 1)\n",
    "    #pylab.subplots_adjust(bottom=0.2, wspace=0.4)\n",
    "    fig.suptitle(suptitle, fontsize = 16)\n",
    "    ax.set_xlabel('$x_i[0]$ -- (feature 1)')\n",
    "    ax.set_ylabel('$x_i[1]$ -- (feature 2)')\n",
    "\n",
    "    colors = ['r' if l>0 else 'b' for l in labels]\n",
    "    ax.scatter(features[:, 0], features[:, 1], marker='o', c=colors, s=100, alpha = 0.5)\n",
    "    fig.show()"
   ]
  },
  {
   "cell_type": "code",
   "execution_count": 5,
   "metadata": {
    "collapsed": false,
    "nbpresent": {
     "id": "11407a48-fcf7-4db4-a7c0-c50aec6918cf"
    },
    "slideshow": {
     "slide_type": "slide"
    }
   },
   "outputs": [
    {
     "name": "stderr",
     "output_type": "stream",
     "text": [
      "C:\\Anaconda\\envs\\py35\\lib\\site-packages\\matplotlib\\figure.py:397: UserWarning: matplotlib is currently using a non-GUI backend, so cannot show the figure\n",
      "  \"matplotlib is currently using a non-GUI backend, \"\n"
     ]
    },
    {
     "data": {
      "image/png": "[encoded data removed]",
      "text/plain": [
       "<matplotlib.figure.Figure at 0x7d76ed1ba8>"
      ]
     },
     "metadata": {},
     "output_type": "display_data"
    }
   ],
   "source": [
    "plot_dataset('Scatterplot of the training data', train_x, train_labels)"
   ]
  },
  {
   "cell_type": "markdown",
   "metadata": {
    "nbpresent": {
     "id": "7fcc0294-ae23-42c8-b122-c961801cad96"
    },
    "slideshow": {
     "slide_type": "slide"
    }
   },
   "source": [
    "## Нейросети\n",
    "\n",
    "Искусственная нейросеть - это моделирование с той или иной точностью процессов, происходящих в мозге человека.\n",
    "\n",
    "  * Моделируется в основном электрическая активность\n",
    "  * Сильное упрощение модели, которое позволяет эффективно её вычислять\n",
    "\n",
    "<img style='margin: 10px;width: 70%;' src=\"https://msrcdlw.blob.core.windows.net/data/synapse.png\"/>"
   ]
  },
  {
   "cell_type": "markdown",
   "metadata": {
    "nbpresent": {
     "id": "5e0e8245-28d8-4a60-93b7-9ceb98f0a776"
    },
    "slideshow": {
     "slide_type": "slide"
    }
   },
   "source": [
    "## Персептрон\n",
    "<img style='margin: 10px;width: 30%;' src='https://msrcdlw.blob.core.windows.net/data/rosenblatt.jpg' alt='Frank Rosenblatt' align='right'/>\n",
    "\n",
    "Первая попытка реализовать нейронную сеть - 1957 г., Cornell Aeronautical Laboratory, Frank Rosenblatt. \n",
    "\n",
    "  * Реализация \"в железе\"\n",
    "  * Цель - распознавание образов\n",
    "  * Один нейрон, 400 входов от изображения 20x20, двоичный выход"
   ]
  },
  {
   "cell_type": "markdown",
   "metadata": {
    "nbpresent": {
     "id": "0683bb47-3efc-44ae-b65b-94d7f224f986"
    },
    "slideshow": {
     "slide_type": "slide"
    }
   },
   "source": [
    "## Персептрон\n",
    "\n",
    "<img style='margin: 10px;width:30%' src='https://msrcdlw.blob.core.windows.net/data/perceptron.jpg' align='right' alt='The Mark 1 Perceptron' />\n",
    "\n",
    "  * New York Times так об этом писала:\n",
    "\n",
    "> the embryo of an electronic computer that [the Navy] expects will be able to walk, talk,\n",
    "> see, write, reproduce itself and be conscious of its existence.\n",
    "\n",
    "  * В основе - работы Warren McCullock и Walter Pitts 1943 года\n",
    "  * Threshold Logic Unit - первая модель искусственного нейрона"
   ]
  },
  {
   "cell_type": "markdown",
   "metadata": {
    "nbpresent": {
     "id": "3d68419f-dc65-47f4-958f-6970bd1301b9"
    },
    "slideshow": {
     "slide_type": "slide"
    }
   },
   "source": [
    "## Мат.модель персептрона\n",
    "\n",
    "На вход подаётся вектор $\\mathbf{x}$, в этом случае выходное значение вычисляется как:\n",
    "\n",
    "$$y(\\mathbf{x}) = f(\\mathbf{w}^{\\mathrm{T}}\\mathbf{x})$$\n",
    "\n",
    "где $\\mathbf{w}$ - вектор весов, $f$ - пороговая функция вида\n",
    "$$\n",
    "f(x) = \\begin{cases}\n",
    "         +1 & x \\geq 0 \\\\\n",
    "         -1 & x < 0\n",
    "       \\end{cases} \\\\\n",
    "$$"
   ]
  },
  {
   "cell_type": "markdown",
   "metadata": {
    "nbpresent": {
     "id": "a10f6693-2a48-4eaf-af70-efe53f16d0ac"
    },
    "slideshow": {
     "slide_type": "slide"
    }
   },
   "source": [
    "## Алгоритм обучения\n",
    "\n",
    "Для работы персептрона необходимо найти веса $\\mathbf{w}$. Для этого мы используем и минимизируем **критерий персептрона**:\n",
    "\n",
    "$$E(\\mathbf{w}) = -\\sum_{n \\in \\mathcal{M}}\\mathbf{w}^{\\mathrm{T}}\\mathbf{x}_{n}t_{n}$$\n",
    " \n",
    "  * $t_{n} \\in \\{-1, +1\\}$ для отрицательных и положительных примеров соответственно\n",
    "  * $\\mathcal{M}$ - множество неправильно классифицированных примеров\n",
    "  \n",
    "Для обновления весов на каждом примере мы можем использовать градиент этой функции:\n",
    "\n",
    "$$\\mathbf{w}^{\\tau + 1}=\\mathbf{w}^{\\tau} - \\eta \\nabla E(\\mathbf{w}) = \\mathbf{w}^{\\tau} + \\eta \\mathbf{x}_{n} t_{n}$$\n",
    "\n",
    "где $\\eta$ - коэффициент, показывающий скорость обучения, $\t\\tau\\in\\mathbb{N}$ - номер шага алгоритма"
   ]
  },
  {
   "cell_type": "code",
   "execution_count": 6,
   "metadata": {
    "collapsed": false,
    "nbpresent": {
     "id": "344d3275-d27e-4f69-a497-d12e80237f66"
    },
    "slideshow": {
     "slide_type": "slide"
    }
   },
   "outputs": [
    {
     "name": "stdout",
     "output_type": "stream",
     "text": [
      "[[ 0.92180622  0.91789985  1.        ]\n",
      " [-1.06435513  1.49764717  1.        ]\n",
      " [ 0.32839951  2.25677919  1.        ]]\n"
     ]
    }
   ],
   "source": [
    "pos_examples = np.array([ [t[0],t[1],1] for i,t in enumerate(train_x) \n",
    "                          if train_labels[i]>0])\n",
    "neg_examples = np.array([ [t[0],t[1],1] for i,t in enumerate(train_x) \n",
    "                          if train_labels[i]<0])\n",
    "print(pos_examples[0:3])"
   ]
  },
  {
   "cell_type": "code",
   "execution_count": 7,
   "metadata": {
    "collapsed": true,
    "nbpresent": {
     "id": "7f3eeed6-35bd-422f-8746-a7a3c2c53e6b"
    },
    "slideshow": {
     "slide_type": "slide"
    }
   },
   "outputs": [],
   "source": [
    "def train(positive_examples, negative_examples, num_iterations = 100):\n",
    "    num_dims = positive_examples.shape[1]\n",
    "    weights = np.zeros((num_dims,1)) # инициализируем веса\n",
    "    \n",
    "    pos_count = positive_examples.shape[0]\n",
    "    neg_count = negative_examples.shape[0]\n",
    "    \n",
    "    report_frequency = 10\n",
    "    \n",
    "    for i in range(num_iterations):\n",
    "        pos = random.choice(positive_examples)\n",
    "        neg = random.choice(negative_examples)\n",
    "\n",
    "        z = np.dot(pos, weights)   \n",
    "        if z < 0:\n",
    "            weights = weights + pos.reshape(weights.shape)\n",
    "\n",
    "        z  = np.dot(neg, weights)\n",
    "        if z >= 0:\n",
    "            weights = weights - neg.reshape(weights.shape)\n",
    "            \n",
    "        if i % report_frequency == 0:             \n",
    "            pos_out = np.dot(positive_examples, weights)\n",
    "            neg_out = np.dot(negative_examples, weights)        \n",
    "            pos_correct = (pos_out >= 0).sum() / float(pos_count)\n",
    "            neg_correct = (neg_out < 0).sum() / float(neg_count)\n",
    "            print(\"Iteration={}, pos correct={}, neg correct={}\".format(i,pos_correct,neg_correct))\n",
    "\n",
    "    return weights"
   ]
  },
  {
   "cell_type": "code",
   "execution_count": 8,
   "metadata": {
    "collapsed": false,
    "nbpresent": {
     "id": "9c97c9c9-a98c-47d7-ad65-57ad3551aed5"
    },
    "slideshow": {
     "slide_type": "slide"
    }
   },
   "outputs": [
    {
     "name": "stdout",
     "output_type": "stream",
     "text": [
      "Iteration=0, pos correct=0.7368421052631579, neg correct=0.9523809523809523\n",
      "Iteration=10, pos correct=0.8947368421052632, neg correct=0.8095238095238095\n",
      "Iteration=20, pos correct=0.8947368421052632, neg correct=0.9047619047619048\n",
      "Iteration=30, pos correct=0.8421052631578947, neg correct=0.9523809523809523\n",
      "Iteration=40, pos correct=0.8421052631578947, neg correct=0.9523809523809523\n",
      "Iteration=50, pos correct=0.8947368421052632, neg correct=0.9047619047619048\n",
      "Iteration=60, pos correct=0.8947368421052632, neg correct=0.9523809523809523\n",
      "Iteration=70, pos correct=0.8947368421052632, neg correct=0.9523809523809523\n",
      "Iteration=80, pos correct=0.8947368421052632, neg correct=0.9047619047619048\n",
      "Iteration=90, pos correct=0.9473684210526315, neg correct=0.9523809523809523\n",
      "[[-0.56650859  5.25781719 -1.        ]]\n"
     ]
    }
   ],
   "source": [
    "wts = train(pos_examples,neg_examples)\n",
    "print(wts.transpose())"
   ]
  },
  {
   "cell_type": "code",
   "execution_count": 9,
   "metadata": {
    "collapsed": true,
    "nbpresent": {
     "id": "ddc08c32-a616-4494-9424-ab922be6211f"
    },
    "slideshow": {
     "slide_type": "skip"
    }
   },
   "outputs": [],
   "source": [
    "def plot_boundary(positive_examples, negative_examples, weights):\n",
    "    if np.isclose(weights[1], 0):\n",
    "        if np.isclose(weights[0], 0):\n",
    "            x = y = np.array([-6, 6], dtype = 'float32')\n",
    "        else:\n",
    "            y = np.array([-6, 6], dtype='float32')\n",
    "            x = -(weights[1] * y + weights[2])/weights[0]\n",
    "    else:\n",
    "        x = np.array([-6, 6], dtype='float32')\n",
    "        y = -(weights[0] * x + weights[2])/weights[1]\n",
    "\n",
    "    pylab.xlim(-6, 6)\n",
    "    pylab.ylim(-6, 6)                      \n",
    "    pylab.plot(positive_examples[:,0], positive_examples[:,1], 'bo')\n",
    "    pylab.plot(negative_examples[:,0], negative_examples[:,1], 'ro')\n",
    "    pylab.plot(x, y, 'g', linewidth=2.0)\n",
    "    pylab.show()"
   ]
  },
  {
   "cell_type": "code",
   "execution_count": 10,
   "metadata": {
    "collapsed": false,
    "nbpresent": {
     "id": "90034a7e-c3ee-4e22-8318-bfbe7e116bb4"
    },
    "slideshow": {
     "slide_type": "slide"
    }
   },
   "outputs": [
    {
     "data": {
      "image/png": "[encoded data removed]",
      "text/plain": [
       "<matplotlib.figure.Figure at 0x7d789b7668>"
      ]
     },
     "metadata": {},
     "output_type": "display_data"
    }
   ],
   "source": [
    "plot_boundary(pos_examples,neg_examples,wts)"
   ]
  },
  {
   "cell_type": "markdown",
   "metadata": {
    "nbpresent": {
     "id": "51dc0ce8-03d9-4437-a425-281f477bea49"
    },
    "slideshow": {
     "slide_type": "slide"
    }
   },
   "source": [
    "## Проверяем на тестовой выборке"
   ]
  },
  {
   "cell_type": "code",
   "execution_count": 11,
   "metadata": {
    "collapsed": false,
    "nbpresent": {
     "id": "247293f7-810c-430e-8801-7cc483ea5708"
    },
    "slideshow": {
     "slide_type": "fragment"
    }
   },
   "outputs": [
    {
     "data": {
      "text/plain": [
       "1.0"
      ]
     },
     "execution_count": 11,
     "metadata": {},
     "output_type": "execute_result"
    }
   ],
   "source": [
    "def accuracy(weights, test_x, test_labels):\n",
    "    res = np.dot(np.c_[test_x,np.ones(len(test_x))],weights)\n",
    "    return (res.reshape(test_labels.shape)*test_labels>=0).sum()/float(len(test_labels))\n",
    "\n",
    "accuracy(wts, test_x, test_labels)"
   ]
  },
  {
   "cell_type": "markdown",
   "metadata": {
    "nbpresent": {
     "id": "0eea37d6-21da-4713-b379-d123249c054a"
    },
    "slideshow": {
     "slide_type": "slide"
    }
   },
   "source": [
    "## Посмотрим, как меняется точность обучения"
   ]
  },
  {
   "cell_type": "code",
   "execution_count": 12,
   "metadata": {
    "collapsed": false,
    "nbpresent": {
     "id": "248c501c-2323-49a3-b581-51e0b9afa160"
    },
    "slideshow": {
     "slide_type": "skip"
    }
   },
   "outputs": [],
   "source": [
    "def train_graph(positive_examples, negative_examples, num_iterations = 100):\n",
    "    num_dims = positive_examples.shape[1]\n",
    "    weights = np.zeros((num_dims,1)) # инициализируем веса\n",
    "    \n",
    "    pos_count = positive_examples.shape[0]\n",
    "    neg_count = negative_examples.shape[0]\n",
    "    \n",
    "    report_frequency = 15;\n",
    "    snapshots = []\n",
    "    \n",
    "    for i in range(num_iterations):\n",
    "        pos = random.choice(positive_examples)\n",
    "        neg = random.choice(negative_examples)\n",
    "\n",
    "        z = np.dot(pos, weights)   \n",
    "        if z < 0:\n",
    "            weights = weights + pos.reshape(weights.shape)\n",
    "\n",
    "        z  = np.dot(neg, weights)\n",
    "        if z >= 0:\n",
    "            weights = weights - neg.reshape(weights.shape)\n",
    "            \n",
    "        if i % report_frequency == 0:             \n",
    "            pos_out = np.dot(positive_examples, weights)\n",
    "            neg_out = np.dot(negative_examples, weights)        \n",
    "            pos_correct = (pos_out >= 0).sum() / float(pos_count)\n",
    "            neg_correct = (neg_out < 0).sum() / float(neg_count)\n",
    "            snapshots.append((np.copy(weights),(pos_correct+neg_correct)/2.0))\n",
    "\n",
    "    return np.array(snapshots)\n",
    "\n",
    "snapshots = train_graph(pos_examples,neg_examples)\n",
    "\n",
    "def plotit(pos_examples,neg_examples,snapshots,step):\n",
    "    fig = pylab.figure(figsize=(10,4))\n",
    "    fig.add_subplot(1, 2, 1)\n",
    "    plot_boundary(pos_examples, neg_examples, snapshots[step][0])\n",
    "    fig.add_subplot(1, 2, 2)\n",
    "    pylab.plot(np.arange(len(snapshots[:,1])), snapshots[:,1])\n",
    "    pylab.ylabel('Accuracy')\n",
    "    pylab.xlabel('Iteration')\n",
    "    pylab.plot(step, snapshots[step,1], \"bo\")\n",
    "    pylab.show()\n",
    "def pl1(step): plotit(pos_examples,neg_examples,snapshots,step)"
   ]
  },
  {
   "cell_type": "code",
   "execution_count": 14,
   "metadata": {
    "collapsed": false,
    "nbpresent": {
     "id": "a574b996-d37a-40b0-a889-22752fb975f4"
    },
    "slideshow": {
     "slide_type": "fragment"
    }
   },
   "outputs": [
    {
     "data": {
      "image/png": "[encoded data removed]",
      "text/plain": [
       "<matplotlib.figure.Figure at 0x7d78f7a978>"
      ]
     },
     "metadata": {},
     "output_type": "display_data"
    },
    {
     "data": {
      "image/png": "[encoded data removed]",
      "text/plain": [
       "<matplotlib.figure.Figure at 0x7d78a2e6a0>"
      ]
     },
     "metadata": {},
     "output_type": "display_data"
    },
    {
     "data": {
      "text/plain": [
       "<function __main__.pl1>"
      ]
     },
     "execution_count": 14,
     "metadata": {},
     "output_type": "execute_result"
    }
   ],
   "source": [
    "interact(pl1, step=widgets.IntSlider(value=0, min=0, max=len(snapshots)-1))"
   ]
  },
  {
   "cell_type": "markdown",
   "metadata": {
    "nbpresent": {
     "id": "c13be158-e8db-462b-890b-785716f05c6c"
    },
    "slideshow": {
     "slide_type": "slide"
    }
   },
   "source": [
    "## Ограниченность персептрона\n",
    "\n",
    "Типичный пример нерешаемой задачи - **исключающее или** (XOR problem)\n",
    "\n",
    "   | 0 | 1\n",
    "---|---|---\n",
    " 0 | 0 | 1\n",
    " 1 | 1 | 0"
   ]
  },
  {
   "cell_type": "code",
   "execution_count": 15,
   "metadata": {
    "collapsed": false,
    "nbpresent": {
     "id": "56e7bbb1-9a94-4a98-8b5d-b9d9ed0e9670"
    },
    "slideshow": {
     "slide_type": "slide"
    }
   },
   "outputs": [
    {
     "data": {
      "image/png": "[encoded data removed]",
      "text/plain": [
       "<matplotlib.figure.Figure at 0x7d78a869e8>"
      ]
     },
     "metadata": {},
     "output_type": "display_data"
    },
    {
     "data": {
      "image/png": "[encoded data removed]",
      "text/plain": [
       "<matplotlib.figure.Figure at 0x7d78e1d208>"
      ]
     },
     "metadata": {},
     "output_type": "display_data"
    },
    {
     "data": {
      "text/plain": [
       "<function __main__.pl2>"
      ]
     },
     "execution_count": 15,
     "metadata": {},
     "output_type": "execute_result"
    }
   ],
   "source": [
    "pos_examples_xor = np.array([[1,0,1],[0,1,1]])\n",
    "neg_examples_xor = np.array([[1,1,1],[0,0,1]])\n",
    "snapshots_xor = train_graph(pos_examples_xor,neg_examples_xor,1000)\n",
    "def pl2(step): plotit(pos_examples_xor,neg_examples_xor,snapshots_xor,step)\n",
    "interact(pl2, step=widgets.IntSlider(value=0, min=0, max=len(snapshots)-1))"
   ]
  },
  {
   "cell_type": "markdown",
   "metadata": {
    "collapsed": true,
    "nbpresent": {
     "id": "bd1ca28e-3a8c-4803-9ebe-adcf828094f5"
    },
    "slideshow": {
     "slide_type": "slide"
    }
   },
   "source": [
    "## Сложный пример - MNIST\n",
    "\n",
    "Modified National Institute of Standards and Technology\n",
    "\n",
    "https://www.kaggle.com/c/digit-recognizer\n",
    "\n",
    "  * Рукописные цифры, собранные с сотрудников института стандартов и учащихся, около 250 человек\n",
    "  * 60000 обучающая выборка, 10000 тестовая выборка, собранная от разных групп\n",
    "  * Изображения в градациях серого, 28x28"
   ]
  },
  {
   "cell_type": "markdown",
   "metadata": {
    "nbpresent": {
     "id": "795d68ab-6164-4dea-a31b-13f94e53ec4d"
    },
    "slideshow": {
     "slide_type": "slide"
    }
   },
   "source": [
    "## Формат входной выборки\n",
    "\n",
    "![MNIST Format](https://www.cntk.ai/jup/cntk103a_MNIST_input.png)"
   ]
  },
  {
   "cell_type": "code",
   "execution_count": 17,
   "metadata": {
    "collapsed": false,
    "nbpresent": {
     "id": "51fc291d-8030-4664-a5a3-fbb406f8d1c9"
    },
    "slideshow": {
     "slide_type": "slide"
    }
   },
   "outputs": [
    {
     "name": "stderr",
     "output_type": "stream",
     "text": [
      "rm: *.pkl: No such file or directory\n",
      "  % Total    % Received % Xferd  Average Speed   Time    Time     Time  Current\n",
      "                                 Dload  Upload   Total   Spent    Left  Speed\n",
      "\n",
      "  0     0    0     0    0     0      0      0 --:--:-- --:--:-- --:--:--     0\n",
      "  0  9.9M    0  4697    0     0   8357      0  0:20:43 --:--:--  0:20:43  8357\n",
      "100  9.9M  100  9.9M    0     0  9556k      0  0:00:01  0:00:01 --:--:-- 9556k\n"
     ]
    }
   ],
   "source": [
    "import pickle\n",
    "import os\n",
    "!rm *.pkl\n",
    "#!wget https://raw.githubusercontent.com/shwars/NeuroWorkshop/master/Data/MNIST/mnist.pkl.gz\n",
    "!curl -O https://raw.githubusercontent.com/shwars/NeuroWorkshop/master/Data/MNIST/mnist.pkl.gz\n",
    "!gzip -d mnist.pkl.gz\n",
    "        \n",
    "with open('mnist.pkl', 'rb') as mnist_pickle:\n",
    "    MNIST = pickle.load(mnist_pickle)"
   ]
  },
  {
   "cell_type": "code",
   "execution_count": 18,
   "metadata": {
    "collapsed": false,
    "nbpresent": {
     "id": "91bb44b3-a17a-4dbd-82eb-b323ef56636c"
    },
    "slideshow": {
     "slide_type": "slide"
    }
   },
   "outputs": [
    {
     "name": "stdout",
     "output_type": "stream",
     "text": [
      "[  0   0 188 255  94   0   0   0   0   0   0   0   0   0   0   0   0   0\n",
      "   0   0   0   0   0   0   0   0   0   0   0 191 250 253  93   0   0   0\n",
      "   0   0   0   0   0   0   0   0   0   0   0   0   0   0]\n",
      "1\n"
     ]
    },
    {
     "data": {
      "image/png": "[encoded data removed]",
      "text/plain": [
       "<matplotlib.figure.Figure at 0x7d78a3d828>"
      ]
     },
     "metadata": {},
     "output_type": "display_data"
    }
   ],
   "source": [
    "print(MNIST['Train']['Features'][0][130:180])\n",
    "print(MNIST['Train']['Labels'][0])\n",
    "features = MNIST['Train']['Features'].astype(np.float32) / 256.0\n",
    "labels = MNIST['Train']['Labels']\n",
    "fig = pylab.figure(figsize=(10,5))\n",
    "for i in range(10):\n",
    "    ax = fig.add_subplot(1,10,i+1)\n",
    "    pylab.imshow(features[i].reshape(28,28))\n",
    "pylab.show()"
   ]
  },
  {
   "cell_type": "code",
   "execution_count": 19,
   "metadata": {
    "collapsed": false,
    "nbpresent": {
     "id": "74e374c2-d1d5-49a4-a048-3b69c13ad925"
    },
    "slideshow": {
     "slide_type": "slide"
    }
   },
   "outputs": [],
   "source": [
    "def set_mnist_pos_neg(positive_label, negative_label):\n",
    "    positive_indices = [i for i, j in enumerate(MNIST['Train']['Labels']) \n",
    "                          if j == positive_label]\n",
    "    negative_indices = [i for i, j in enumerate(MNIST['Train']['Labels']) \n",
    "                          if j == negative_label]\n",
    "\n",
    "    positive_images = MNIST['Train']['Features'][positive_indices]\n",
    "    negative_images = MNIST['Train']['Features'][negative_indices]\n",
    "\n",
    "    fig = pylab.figure()\n",
    "    ax = fig.add_subplot(1, 2, 1)\n",
    "    pylab.imshow(positive_images[0].reshape(28,28), cmap='gray', interpolation='nearest')\n",
    "    ax.set_xticks([])\n",
    "    ax.set_yticks([])\n",
    "    ax = fig.add_subplot(1, 2, 2)\n",
    "    pylab.imshow(negative_images[0].reshape(28,28), cmap='gray', interpolation='nearest')\n",
    "    ax.set_xticks([])\n",
    "    ax.set_yticks([])\n",
    "    pylab.show()\n",
    "    \n",
    "    return positive_images, negative_images"
   ]
  },
  {
   "cell_type": "code",
   "execution_count": 20,
   "metadata": {
    "collapsed": false,
    "nbpresent": {
     "id": "55324975-64b2-43e5-8a1f-061773e474a7"
    },
    "slideshow": {
     "slide_type": "slide"
    }
   },
   "outputs": [
    {
     "data": {
      "image/png": "[encoded data removed]",
      "text/plain": [
       "<matplotlib.figure.Figure at 0x7d00246e48>"
      ]
     },
     "metadata": {},
     "output_type": "display_data"
    }
   ],
   "source": [
    "pos1,neg1 = set_mnist_pos_neg(1,0)"
   ]
  },
  {
   "cell_type": "code",
   "execution_count": 21,
   "metadata": {
    "collapsed": true,
    "nbpresent": {
     "id": "acaa5c89-adab-4688-a3d1-e4055036ea25"
    },
    "slideshow": {
     "slide_type": "skip"
    }
   },
   "outputs": [],
   "source": [
    "def plotit2(snapshots_mn,step):\n",
    "    fig = pylab.figure(figsize=(10,4))\n",
    "    ax = fig.add_subplot(1, 2, 1)\n",
    "    pylab.imshow(snapshots_mn[step][0].reshape(28, 28), interpolation='nearest')\n",
    "    ax.set_xticks([])\n",
    "    ax.set_yticks([])\n",
    "    pylab.colorbar()\n",
    "    ax = fig.add_subplot(1, 2, 2)\n",
    "    ax.set_ylim([0,1])\n",
    "    pylab.plot(np.arange(len(snapshots_mn[:,1])), snapshots_mn[:,1])\n",
    "    pylab.plot(step, snapshots_mn[step,1], \"bo\")\n",
    "    pylab.show()\n",
    "def pl3(step): plotit2(snapshots_mn,step)\n",
    "def pl4(step): plotit2(snapshots_mn2,step)    "
   ]
  },
  {
   "cell_type": "code",
   "execution_count": 22,
   "metadata": {
    "collapsed": false,
    "nbpresent": {
     "id": "961eec0d-7aa4-4704-afd1-6f2efbd0cdd5"
    },
    "slideshow": {
     "slide_type": "slide"
    }
   },
   "outputs": [
    {
     "data": {
      "image/png": "[encoded data removed]",
      "text/plain": [
       "<matplotlib.figure.Figure at 0x7d01e5a9e8>"
      ]
     },
     "metadata": {},
     "output_type": "display_data"
    }
   ],
   "source": [
    "snapshots_mn = train_graph(pos1,neg1,1000)    \n",
    "interact(pl3, step=widgets.IntSlider(value=0, min=0, max=len(snapshots_mn) - 1))"
   ]
  },
  {
   "cell_type": "code",
   "execution_count": 23,
   "metadata": {
    "collapsed": false,
    "nbpresent": {
     "id": "4ce8dd61-f319-46bb-801f-32c1929c650a"
    },
    "slideshow": {
     "slide_type": "slide"
    }
   },
   "outputs": [
    {
     "data": {
      "image/png": "[encoded data removed]",
      "text/plain": [
       "<matplotlib.figure.Figure at 0x7d022c3208>"
      ]
     },
     "metadata": {},
     "output_type": "display_data"
    }
   ],
   "source": [
    "pos2,neg2 = set_mnist_pos_neg(2,5)"
   ]
  },
  {
   "cell_type": "code",
   "execution_count": 24,
   "metadata": {
    "collapsed": false,
    "nbpresent": {
     "id": "cad8e1b1-19e7-43ef-9a0d-5928f28055f7"
    },
    "slideshow": {
     "slide_type": "slide"
    }
   },
   "outputs": [
    {
     "data": {
      "image/png": "[encoded data removed]",
      "text/plain": [
       "<matplotlib.figure.Figure at 0x7d000b3da0>"
      ]
     },
     "metadata": {},
     "output_type": "display_data"
    }
   ],
   "source": [
    "snapshots_mn2 = train_graph(pos2,neg2,1000)\n",
    "interact(pl4, step=widgets.IntSlider(value=0, min=0, max=len(snapshots_mn2) - 1))"
   ]
  },
  {
   "cell_type": "markdown",
   "metadata": {
    "nbpresent": {
     "id": "f1ec83d0-62f5-49ea-9c27-513225491659"
    },
    "slideshow": {
     "slide_type": "slide"
    }
   },
   "source": [
    "## В чем разница?\n",
    "\n",
    "Почему-то 1 и 0 разделяются намного лучше, чем 2 и 5. \n",
    "\n",
    "Для понимания причины, используем [метод главных компонент](https://ru.wikipedia.org/wiki/%D0%9C%D0%B5%D1%82%D0%BE%D0%B4_%D0%B3%D0%BB%D0%B0%D0%B2%D0%BD%D1%8B%D1%85_%D0%BA%D0%BE%D0%BC%D0%BF%D0%BE%D0%BD%D0%B5%D0%BD%D1%82).\n",
    "\n",
    "**Идея**: выделяем из множества входных фич (784 шт.) подмножество меньшей размерности, которое позволяет максимально репрезентативно разделить множества примеров."
   ]
  },
  {
   "cell_type": "code",
   "execution_count": 25,
   "metadata": {
    "collapsed": true,
    "nbpresent": {
     "id": "53c6c053-74a1-4b46-bfdd-76930c58e924"
    },
    "slideshow": {
     "slide_type": "fragment"
    }
   },
   "outputs": [],
   "source": [
    "from matplotlib.mlab import PCA\n",
    "\n",
    "def pca_analysis(positive_label, negative_label):\n",
    "    positive_images, negative_images = set_mnist_pos_neg(positive_label, negative_label)\n",
    "    M = np.append(positive_images, negative_images, 0)\n",
    "\n",
    "    mypca = PCA(M, standardize = False)\n",
    "\n",
    "    pos_points = mypca.project(positive_images[:200])\n",
    "    neg_points = mypca.project(negative_images[:200])\n",
    "\n",
    "    pylab.plot(pos_points[:,0], pos_points[:,1], 'bo')\n",
    "    pylab.plot(neg_points[:,0], neg_points[:,1], 'ro')"
   ]
  },
  {
   "cell_type": "code",
   "execution_count": 26,
   "metadata": {
    "collapsed": false,
    "nbpresent": {
     "id": "71c3e416-58f3-4c53-9e20-cc82d967dba9"
    },
    "slideshow": {
     "slide_type": "slide"
    }
   },
   "outputs": [
    {
     "data": {
      "image/png": "[encoded data removed]",
      "text/plain": [
       "<matplotlib.figure.Figure at 0x7d01e74da0>"
      ]
     },
     "metadata": {},
     "output_type": "display_data"
    },
    {
     "data": {
      "image/png": "[encoded data removed]",
      "text/plain": [
       "<matplotlib.figure.Figure at 0x7d01e38438>"
      ]
     },
     "metadata": {},
     "output_type": "display_data"
    }
   ],
   "source": [
    "pca_analysis(1,0)"
   ]
  },
  {
   "cell_type": "code",
   "execution_count": 27,
   "metadata": {
    "collapsed": false,
    "nbpresent": {
     "id": "beddba40-2c70-4012-809c-2dcd0ce3e4cb"
    },
    "scrolled": false,
    "slideshow": {
     "slide_type": "slide"
    }
   },
   "outputs": [
    {
     "data": {
      "image/png": "[encoded data removed]",
      "text/plain": [
       "<matplotlib.figure.Figure at 0x7d02124860>"
      ]
     },
     "metadata": {},
     "output_type": "display_data"
    },
    {
     "data": {
      "image/png": "[encoded data removed]",
      "text/plain": [
       "<matplotlib.figure.Figure at 0x7d78e24828>"
      ]
     },
     "metadata": {},
     "output_type": "display_data"
    }
   ],
   "source": [
    "pca_analysis(2,5)"
   ]
  },
  {
   "cell_type": "markdown",
   "metadata": {
    "nbpresent": {
     "id": "719cf14b-9171-4347-a750-a548fa86a9ac"
    },
    "slideshow": {
     "slide_type": "slide"
    }
   },
   "source": [
    "## Выводы\n",
    "\n",
    " * Мы научились создавать простейшую конфигурацию нейросети - однослойный персептрон\n",
    " * При этом такие сети уже могут решать весьма нетривиальные задачи\n",
    " * Тем не менее, однослойный персептрон по сути эквивалентен логистической регрессии, т.е. класс эффективно решаемых задач ограничен\n",
    " * В пространстве состояний однослойный персептрон может разделить два класса объектов гиперплоскостью"
   ]
  },
  {
   "cell_type": "code",
   "execution_count": null,
   "metadata": {
    "collapsed": true,
    "nbpresent": {
     "id": "95c636d6-6194-4d0b-aefa-a4882e276e5a"
    }
   },
   "outputs": [],
   "source": []
  }
 ],
 "metadata": {
  "celltoolbar": "Slideshow",
  "kernelspec": {
   "display_name": "Python [conda env:py35]",
   "language": "python",
   "name": "conda-env-py35-py"
  },
  "language_info": {
   "codemirror_mode": {
    "name": "ipython",
    "version": 3
   },
   "file_extension": ".py",
   "mimetype": "text/x-python",
   "name": "python",
   "nbconvert_exporter": "python",
   "pygments_lexer": "ipython3",
   "version": "3.5.2"
  },
  "livereveal": {
   "start_slideshow_at": "selected"
  },
  "nbpresent": {
   "slides": {
    "137d9bc7-c548-49b2-8912-1cfbd0dde321": {
     "id": "137d9bc7-c548-49b2-8912-1cfbd0dde321",
     "prev": "59ac6c10-f3d0-4aef-a1db-5840c234cad9",
     "regions": {
      "fb7132de-a681-4040-8f67-b08aa9c1c01c": {
       "attrs": {
        "height": 0.8,
        "width": 0.8,
        "x": 0.1,
        "y": 0.1
       },
       "content": {
        "cell": "795d68ab-6164-4dea-a31b-13f94e53ec4d",
        "part": "whole"
       },
       "id": "fb7132de-a681-4040-8f67-b08aa9c1c01c"
      }
     }
    },
    "1bf5e0b4-8d6f-4ae1-8b10-7ba34150ae46": {
     "id": "1bf5e0b4-8d6f-4ae1-8b10-7ba34150ae46",
     "prev": "a7aeb594-2343-4beb-b65f-7f770d82744b",
     "regions": {
      "f51637db-1d4b-48c5-b7c6-a473289fba9e": {
       "attrs": {
        "height": 0.8,
        "width": 0.8,
        "x": 0.1,
        "y": 0.1
       },
       "content": {
        "cell": "7fcc0294-ae23-42c8-b122-c961801cad96",
        "part": "whole"
       },
       "id": "f51637db-1d4b-48c5-b7c6-a473289fba9e"
      }
     }
    },
    "1c7a3d05-234d-4521-9564-dced34502e49": {
     "id": "1c7a3d05-234d-4521-9564-dced34502e49",
     "prev": "137d9bc7-c548-49b2-8912-1cfbd0dde321",
     "regions": {
      "a6e10803-abe8-4eed-a1b8-b3a52c60a624": {
       "attrs": {
        "height": 0.8,
        "width": 0.8,
        "x": 0.1,
        "y": 0.1
       },
       "content": {
        "cell": "51fc291d-8030-4664-a5a3-fbb406f8d1c9",
        "part": "whole"
       },
       "id": "a6e10803-abe8-4eed-a1b8-b3a52c60a624"
      }
     }
    },
    "1f004b81-94d2-4014-bd6a-ad39f657686c": {
     "id": "1f004b81-94d2-4014-bd6a-ad39f657686c",
     "prev": "d35e78ce-954d-49cf-a511-ddecfc1ac727",
     "regions": {
      "dc4ec89d-d0ce-4311-be00-165bc95e23a3": {
       "attrs": {
        "height": 0.8,
        "width": 0.8,
        "x": 0.1,
        "y": 0.1
       },
       "content": {
        "cell": "71c3e416-58f3-4c53-9e20-cc82d967dba9",
        "part": "whole"
       },
       "id": "dc4ec89d-d0ce-4311-be00-165bc95e23a3"
      }
     }
    },
    "370a1981-7cde-4030-baa9-70ed32c79394": {
     "id": "370a1981-7cde-4030-baa9-70ed32c79394",
     "prev": "3c81378b-d852-4aff-b807-3bacc9ac94f2",
     "regions": {
      "62d2d61c-d484-42d4-b62c-b322b8dcdffb": {
       "attrs": {
        "height": 0.8,
        "width": 0.8,
        "x": 0.1,
        "y": 0.1
       },
       "content": {
        "cell": "b8c69ea0-86c3-406c-a19d-3f463cbc9604",
        "part": "whole"
       },
       "id": "62d2d61c-d484-42d4-b62c-b322b8dcdffb"
      }
     }
    },
    "3915910c-8c9d-4daf-8215-da04c5a2b868": {
     "id": "3915910c-8c9d-4daf-8215-da04c5a2b868",
     "prev": "1f004b81-94d2-4014-bd6a-ad39f657686c",
     "regions": {
      "63d36ffe-3419-4363-9343-8a0a40fe0287": {
       "attrs": {
        "height": 0.8,
        "width": 0.8,
        "x": 0.1,
        "y": 0.1
       },
       "content": {
        "cell": "beddba40-2c70-4012-809c-2dcd0ce3e4cb",
        "part": "whole"
       },
       "id": "63d36ffe-3419-4363-9343-8a0a40fe0287"
      }
     }
    },
    "3c81378b-d852-4aff-b807-3bacc9ac94f2": {
     "id": "3c81378b-d852-4aff-b807-3bacc9ac94f2",
     "prev": null,
     "regions": {
      "a4919d4a-fb19-4a46-8997-32625909c09f": {
       "attrs": {
        "height": 0.8,
        "width": 0.8,
        "x": 0.1,
        "y": 0.1
       },
       "content": {
        "cell": "352de1bc-4497-45d5-ab3b-d820cae4c621",
        "part": "whole"
       },
       "id": "a4919d4a-fb19-4a46-8997-32625909c09f"
      }
     }
    },
    "426e3c2a-8a84-4cbc-9dd5-492c7502bbe8": {
     "id": "426e3c2a-8a84-4cbc-9dd5-492c7502bbe8",
     "prev": "370a1981-7cde-4030-baa9-70ed32c79394",
     "regions": {
      "c6de4617-b6cd-4d2f-b3e6-78df13976969": {
       "attrs": {
        "height": 0.8,
        "width": 0.8,
        "x": 0.1,
        "y": 0.1
       },
       "content": {
        "cell": "c7b224dd-d9e0-4ffc-886a-e183d26758b9",
        "part": "whole"
       },
       "id": "c6de4617-b6cd-4d2f-b3e6-78df13976969"
      }
     }
    },
    "534e8c22-4434-4ca4-81da-aee16dd344ab": {
     "id": "534e8c22-4434-4ca4-81da-aee16dd344ab",
     "prev": "3915910c-8c9d-4daf-8215-da04c5a2b868",
     "regions": {
      "3e6f0831-665c-49db-914c-2492e17c6f5a": {
       "attrs": {
        "height": 0.4,
        "width": 0.8,
        "x": 0.1,
        "y": 0.5
       },
       "content": {
        "cell": "95c636d6-6194-4d0b-aefa-a4882e276e5a",
        "part": "whole"
       },
       "id": "3e6f0831-665c-49db-914c-2492e17c6f5a"
      },
      "a4d02a4a-cfeb-4829-8c3d-7962d57c81aa": {
       "attrs": {
        "height": 0.8,
        "width": 0.8,
        "x": 0.1,
        "y": 0.1
       },
       "content": {
        "cell": "719cf14b-9171-4347-a750-a548fa86a9ac",
        "part": "whole"
       },
       "id": "a4d02a4a-cfeb-4829-8c3d-7962d57c81aa"
      }
     }
    },
    "59ac6c10-f3d0-4aef-a1db-5840c234cad9": {
     "id": "59ac6c10-f3d0-4aef-a1db-5840c234cad9",
     "prev": "7c1add8f-ccce-4a07-a47b-34506c80b280",
     "regions": {
      "ef1591d7-ea8f-4e22-8721-9955bb13e35b": {
       "attrs": {
        "height": 0.8,
        "width": 0.8,
        "x": 0.1,
        "y": 0.1
       },
       "content": {
        "cell": "bd1ca28e-3a8c-4803-9ebe-adcf828094f5",
        "part": "whole"
       },
       "id": "ef1591d7-ea8f-4e22-8721-9955bb13e35b"
      }
     }
    },
    "5aee716d-294e-44fb-bf5a-9822d8e46f25": {
     "id": "5aee716d-294e-44fb-bf5a-9822d8e46f25",
     "prev": "b9675c33-6f75-45ba-abc0-ce6878388de8",
     "regions": {
      "7d321bc4-22e8-49ea-b295-f91e30596d3e": {
       "attrs": {
        "height": 0.8,
        "width": 0.8,
        "x": 0.1,
        "y": 0.1
       },
       "content": {
        "cell": "f4fae957-6c2f-4988-818b-f515012419c0",
        "part": "whole"
       },
       "id": "7d321bc4-22e8-49ea-b295-f91e30596d3e"
      }
     }
    },
    "5ec5cfce-8226-449f-aede-e36411025bc9": {
     "id": "5ec5cfce-8226-449f-aede-e36411025bc9",
     "prev": "b3cf83a2-9f25-42c3-a340-73b9c831ff09",
     "regions": {
      "fa68d29a-a9b6-4e69-8719-4958903c110d": {
       "attrs": {
        "height": 0.8,
        "width": 0.8,
        "x": 0.1,
        "y": 0.1
       },
       "content": {
        "cell": "cad8e1b1-19e7-43ef-9a0d-5928f28055f7",
        "part": "whole"
       },
       "id": "fa68d29a-a9b6-4e69-8719-4958903c110d"
      }
     }
    },
    "6ec6ce8d-d889-4501-a038-43773285f72f": {
     "id": "6ec6ce8d-d889-4501-a038-43773285f72f",
     "prev": "a2dca79d-32ce-47bd-8ef0-d00d9664ee5a",
     "regions": {
      "974a87a7-ae5d-4938-ad58-74973bdeeaef": {
       "attrs": {
        "height": 0.4,
        "width": 0.8,
        "x": 0.1,
        "y": 0.5
       },
       "content": {
        "cell": "247293f7-810c-430e-8801-7cc483ea5708",
        "part": "whole"
       },
       "id": "974a87a7-ae5d-4938-ad58-74973bdeeaef"
      },
      "f9fe121b-7c5a-489c-869e-57cc55cd6254": {
       "attrs": {
        "height": 0.8,
        "width": 0.8,
        "x": 0.1,
        "y": 0.1
       },
       "content": {
        "cell": "51dc0ce8-03d9-4437-a425-281f477bea49",
        "part": "whole"
       },
       "id": "f9fe121b-7c5a-489c-869e-57cc55cd6254"
      }
     }
    },
    "7c1add8f-ccce-4a07-a47b-34506c80b280": {
     "id": "7c1add8f-ccce-4a07-a47b-34506c80b280",
     "prev": "a3c70751-1903-4fac-9823-bc25a68360dd",
     "regions": {
      "b41e866a-5209-421f-9eb5-246010218776": {
       "attrs": {
        "height": 0.8,
        "width": 0.8,
        "x": 0.1,
        "y": 0.1
       },
       "content": {
        "cell": "56e7bbb1-9a94-4a98-8b5d-b9d9ed0e9670",
        "part": "whole"
       },
       "id": "b41e866a-5209-421f-9eb5-246010218776"
      }
     }
    },
    "7f169952-6de3-423d-bccf-2b08c2d5f9f5": {
     "id": "7f169952-6de3-423d-bccf-2b08c2d5f9f5",
     "prev": "e6c06aeb-7351-4690-8d18-0c6ac93971c5",
     "regions": {
      "0c55a756-6bcf-44ab-85b8-a7c28ea859ef": {
       "attrs": {
        "height": 0.8,
        "width": 0.8,
        "x": 0.1,
        "y": 0.1
       },
       "content": {
        "cell": "55324975-64b2-43e5-8a1f-061773e474a7",
        "part": "whole"
       },
       "id": "0c55a756-6bcf-44ab-85b8-a7c28ea859ef"
      }
     }
    },
    "80cf4aa5-e2dc-4f39-b97c-4996a571efd8": {
     "id": "80cf4aa5-e2dc-4f39-b97c-4996a571efd8",
     "prev": "1c7a3d05-234d-4521-9564-dced34502e49",
     "regions": {
      "2ae358dc-7475-46bf-8432-b9f5de09a902": {
       "attrs": {
        "height": 0.8,
        "width": 0.8,
        "x": 0.1,
        "y": 0.1
       },
       "content": {
        "cell": "91bb44b3-a17a-4dbd-82eb-b323ef56636c",
        "part": "whole"
       },
       "id": "2ae358dc-7475-46bf-8432-b9f5de09a902"
      }
     }
    },
    "a2dca79d-32ce-47bd-8ef0-d00d9664ee5a": {
     "id": "a2dca79d-32ce-47bd-8ef0-d00d9664ee5a",
     "prev": "a75c257e-4515-48c1-9cfd-cc7ad7611230",
     "regions": {
      "dbc8818e-96aa-4244-91d2-5ac8fe9c2927": {
       "attrs": {
        "height": 0.8,
        "width": 0.8,
        "x": 0.1,
        "y": 0.1
       },
       "content": {
        "cell": "90034a7e-c3ee-4e22-8318-bfbe7e116bb4",
        "part": "whole"
       },
       "id": "dbc8818e-96aa-4244-91d2-5ac8fe9c2927"
      }
     }
    },
    "a3c70751-1903-4fac-9823-bc25a68360dd": {
     "id": "a3c70751-1903-4fac-9823-bc25a68360dd",
     "prev": "dc13f5b7-5e57-44e0-8105-3fdd5aebffae",
     "regions": {
      "15b06149-d902-4edd-b48e-7e22c7446362": {
       "attrs": {
        "height": 0.8,
        "width": 0.8,
        "x": 0.1,
        "y": 0.1
       },
       "content": {
        "cell": "c13be158-e8db-462b-890b-785716f05c6c",
        "part": "whole"
       },
       "id": "15b06149-d902-4edd-b48e-7e22c7446362"
      }
     }
    },
    "a75c257e-4515-48c1-9cfd-cc7ad7611230": {
     "id": "a75c257e-4515-48c1-9cfd-cc7ad7611230",
     "prev": "bd439134-a4bb-4c8b-9301-443652c2b475",
     "regions": {
      "bbd5c1e1-ddbb-4e13-90bd-9454d546ca3f": {
       "attrs": {
        "height": 0.8,
        "width": 0.8,
        "x": 0.1,
        "y": 0.1
       },
       "content": {
        "cell": "9c97c9c9-a98c-47d7-ad65-57ad3551aed5",
        "part": "whole"
       },
       "id": "bbd5c1e1-ddbb-4e13-90bd-9454d546ca3f"
      }
     }
    },
    "a7aeb594-2343-4beb-b65f-7f770d82744b": {
     "id": "a7aeb594-2343-4beb-b65f-7f770d82744b",
     "prev": "e6228ae2-3136-42b8-9e4c-ec40930d0118",
     "regions": {
      "4581d38a-fe61-4c40-add6-aa9426527c0d": {
       "attrs": {
        "height": 0.8,
        "width": 0.8,
        "x": 0.1,
        "y": 0.1
       },
       "content": {
        "cell": "11407a48-fcf7-4db4-a7c0-c50aec6918cf",
        "part": "whole"
       },
       "id": "4581d38a-fe61-4c40-add6-aa9426527c0d"
      }
     }
    },
    "b3cf83a2-9f25-42c3-a340-73b9c831ff09": {
     "id": "b3cf83a2-9f25-42c3-a340-73b9c831ff09",
     "prev": "e2b08a80-dc76-4821-8eb7-25d58665fc9e",
     "regions": {
      "48c1f4cf-d5d4-48ad-bb4f-00842b505a23": {
       "attrs": {
        "height": 0.8,
        "width": 0.8,
        "x": 0.1,
        "y": 0.1
       },
       "content": {
        "cell": "4ce8dd61-f319-46bb-801f-32c1929c650a",
        "part": "whole"
       },
       "id": "48c1f4cf-d5d4-48ad-bb4f-00842b505a23"
      }
     }
    },
    "b9675c33-6f75-45ba-abc0-ce6878388de8": {
     "id": "b9675c33-6f75-45ba-abc0-ce6878388de8",
     "prev": "426e3c2a-8a84-4cbc-9dd5-492c7502bbe8",
     "regions": {
      "1708b35e-7c65-49d0-950d-11b9c453b1f9": {
       "attrs": {
        "height": 0.8,
        "width": 0.8,
        "x": 0.1,
        "y": 0.1
       },
       "content": {
        "cell": "3955d5d7-e56f-40f8-a78d-944e1ed080f8",
        "part": "whole"
       },
       "id": "1708b35e-7c65-49d0-950d-11b9c453b1f9"
      }
     }
    },
    "bd439134-a4bb-4c8b-9301-443652c2b475": {
     "id": "bd439134-a4bb-4c8b-9301-443652c2b475",
     "prev": "d1ebff9d-6ca7-4098-b04d-fb8884b77fab",
     "regions": {
      "af0b4c4a-6b54-43a5-a6d2-79d3a35b4857": {
       "attrs": {
        "height": 0.8,
        "width": 0.8,
        "x": 0.1,
        "y": 0.1
       },
       "content": {
        "cell": "7f3eeed6-35bd-422f-8746-a7a3c2c53e6b",
        "part": "whole"
       },
       "id": "af0b4c4a-6b54-43a5-a6d2-79d3a35b4857"
      }
     }
    },
    "d1ebff9d-6ca7-4098-b04d-fb8884b77fab": {
     "id": "d1ebff9d-6ca7-4098-b04d-fb8884b77fab",
     "prev": "ea42c48d-77a2-4d2f-ae83-cfb55ab89a16",
     "regions": {
      "73de3fc3-444b-4fff-906e-98eb2e83791f": {
       "attrs": {
        "height": 0.8,
        "width": 0.8,
        "x": 0.1,
        "y": 0.1
       },
       "content": {
        "cell": "344d3275-d27e-4f69-a497-d12e80237f66",
        "part": "whole"
       },
       "id": "73de3fc3-444b-4fff-906e-98eb2e83791f"
      }
     }
    },
    "d35e78ce-954d-49cf-a511-ddecfc1ac727": {
     "id": "d35e78ce-954d-49cf-a511-ddecfc1ac727",
     "prev": "5ec5cfce-8226-449f-aede-e36411025bc9",
     "regions": {
      "365c1535-55ff-4e01-a30e-0ddf6599cc9d": {
       "attrs": {
        "height": 0.4,
        "width": 0.8,
        "x": 0.1,
        "y": 0.5
       },
       "content": {
        "cell": "53c6c053-74a1-4b46-bfdd-76930c58e924",
        "part": "whole"
       },
       "id": "365c1535-55ff-4e01-a30e-0ddf6599cc9d"
      },
      "c4de6298-2244-4978-b80c-e2d0c0a6819a": {
       "attrs": {
        "height": 0.8,
        "width": 0.8,
        "x": 0.1,
        "y": 0.1
       },
       "content": {
        "cell": "f1ec83d0-62f5-49ea-9c27-513225491659",
        "part": "whole"
       },
       "id": "c4de6298-2244-4978-b80c-e2d0c0a6819a"
      }
     }
    },
    "dc13f5b7-5e57-44e0-8105-3fdd5aebffae": {
     "id": "dc13f5b7-5e57-44e0-8105-3fdd5aebffae",
     "prev": "6ec6ce8d-d889-4501-a038-43773285f72f",
     "regions": {
      "a5146193-4ac8-4f7a-b279-38cefa85a712": {
       "attrs": {
        "height": 0.4,
        "width": 0.8,
        "x": 0.1,
        "y": 0.5
       },
       "content": {
        "cell": "a574b996-d37a-40b0-a889-22752fb975f4",
        "part": "whole"
       },
       "id": "a5146193-4ac8-4f7a-b279-38cefa85a712"
      },
      "f70a0434-b2ad-4385-9268-63cd3991d6de": {
       "attrs": {
        "height": 0.8,
        "width": 0.8,
        "x": 0.1,
        "y": 0.1
       },
       "content": {
        "cell": "0eea37d6-21da-4713-b379-d123249c054a",
        "part": "whole"
       },
       "id": "f70a0434-b2ad-4385-9268-63cd3991d6de"
      }
     }
    },
    "dd6e9bcd-7b06-4445-843a-1b2b8645b193": {
     "id": "dd6e9bcd-7b06-4445-843a-1b2b8645b193",
     "prev": "ffc8eb39-bd3b-4cec-9475-e9566ca79741",
     "regions": {
      "5cd119f2-731b-44aa-9fcb-2881bbd91b9b": {
       "attrs": {
        "height": 0.8,
        "width": 0.8,
        "x": 0.1,
        "y": 0.1
       },
       "content": {
        "cell": "3d68419f-dc65-47f4-958f-6970bd1301b9",
        "part": "whole"
       },
       "id": "5cd119f2-731b-44aa-9fcb-2881bbd91b9b"
      }
     }
    },
    "e2b08a80-dc76-4821-8eb7-25d58665fc9e": {
     "id": "e2b08a80-dc76-4821-8eb7-25d58665fc9e",
     "prev": "7f169952-6de3-423d-bccf-2b08c2d5f9f5",
     "regions": {
      "5a31fea8-a5a2-46d2-9e62-c15cf6168c7d": {
       "attrs": {
        "height": 0.8,
        "width": 0.8,
        "x": 0.1,
        "y": 0.1
       },
       "content": {
        "cell": "961eec0d-7aa4-4704-afd1-6f2efbd0cdd5",
        "part": "whole"
       },
       "id": "5a31fea8-a5a2-46d2-9e62-c15cf6168c7d"
      }
     }
    },
    "e57fa281-e0b4-495f-a3cd-6b408c775f56": {
     "id": "e57fa281-e0b4-495f-a3cd-6b408c775f56",
     "prev": "1bf5e0b4-8d6f-4ae1-8b10-7ba34150ae46",
     "regions": {
      "c584d3b7-2f7a-45dd-9a44-10aa41452dcf": {
       "attrs": {
        "height": 0.8,
        "width": 0.8,
        "x": 0.1,
        "y": 0.1
       },
       "content": {
        "cell": "5e0e8245-28d8-4a60-93b7-9ceb98f0a776",
        "part": "whole"
       },
       "id": "c584d3b7-2f7a-45dd-9a44-10aa41452dcf"
      }
     }
    },
    "e6228ae2-3136-42b8-9e4c-ec40930d0118": {
     "id": "e6228ae2-3136-42b8-9e4c-ec40930d0118",
     "prev": "5aee716d-294e-44fb-bf5a-9822d8e46f25",
     "regions": {
      "91d4719c-b93c-4feb-8119-c58aecdc3011": {
       "attrs": {
        "height": 0.8,
        "width": 0.8,
        "x": 0.1,
        "y": 0.1
       },
       "content": {
        "cell": "383a2b79-3fc5-4a6f-9cc0-b57f10130f9d",
        "part": "whole"
       },
       "id": "91d4719c-b93c-4feb-8119-c58aecdc3011"
      }
     }
    },
    "e6c06aeb-7351-4690-8d18-0c6ac93971c5": {
     "id": "e6c06aeb-7351-4690-8d18-0c6ac93971c5",
     "prev": "80cf4aa5-e2dc-4f39-b97c-4996a571efd8",
     "regions": {
      "22c2888f-a0a9-473d-8f2b-bd812ef5ee91": {
       "attrs": {
        "height": 0.8,
        "width": 0.8,
        "x": 0.1,
        "y": 0.1
       },
       "content": {
        "cell": "74e374c2-d1d5-49a4-a048-3b69c13ad925",
        "part": "whole"
       },
       "id": "22c2888f-a0a9-473d-8f2b-bd812ef5ee91"
      }
     }
    },
    "ea42c48d-77a2-4d2f-ae83-cfb55ab89a16": {
     "id": "ea42c48d-77a2-4d2f-ae83-cfb55ab89a16",
     "prev": "dd6e9bcd-7b06-4445-843a-1b2b8645b193",
     "regions": {
      "17c7aa79-7579-4f73-863f-da70eba04b7d": {
       "attrs": {
        "height": 0.8,
        "width": 0.8,
        "x": 0.1,
        "y": 0.1
       },
       "content": {
        "cell": "a10f6693-2a48-4eaf-af70-efe53f16d0ac",
        "part": "whole"
       },
       "id": "17c7aa79-7579-4f73-863f-da70eba04b7d"
      }
     }
    },
    "ffc8eb39-bd3b-4cec-9475-e9566ca79741": {
     "id": "ffc8eb39-bd3b-4cec-9475-e9566ca79741",
     "prev": "e57fa281-e0b4-495f-a3cd-6b408c775f56",
     "regions": {
      "787df0ca-8ea1-48b2-9e2c-85867919f22c": {
       "attrs": {
        "height": 0.8,
        "width": 0.8,
        "x": 0.1,
        "y": 0.1
       },
       "content": {
        "cell": "0683bb47-3efc-44ae-b65b-94d7f224f986",
        "part": "whole"
       },
       "id": "787df0ca-8ea1-48b2-9e2c-85867919f22c"
      }
     }
    }
   },
   "themes": {
    "default": "fca46914-a11b-44a8-a859-582c4642122d",
    "theme": {}
   }
  },
  "widgets": {
   "state": {
    "06361b4b668f41eba24b54f837cdbbd6": {
     "views": [
      {
       "cell_index": 36
      }
     ]
    },
    "4fee8261de2d4b969bc6996532290f21": {
     "views": [
      {
       "cell_index": 34
      }
     ]
    },
    "b2823af818ed4295933d1a9cd4df8c26": {
     "views": [
      {
       "cell_index": 26
      }
     ]
    },
    "fb1b4006fc3f4770aa3006b1affe63cf": {
     "views": [
      {
       "cell_index": 24
      }
     ]
    }
   },
   "version": "1.2.0"
  }
 },
 "nbformat": 4,
 "nbformat_minor": 2
}
